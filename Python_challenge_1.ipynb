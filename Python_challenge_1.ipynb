{
  "nbformat": 4,
  "nbformat_minor": 0,
  "metadata": {
    "colab": {
      "provenance": []
    },
    "kernelspec": {
      "name": "python3",
      "display_name": "Python 3"
    },
    "language_info": {
      "name": "python"
    }
  },
  "cells": [
    {
      "cell_type": "code",
      "execution_count": 1,
      "metadata": {
        "id": "dJckSnY0sJST"
      },
      "outputs": [],
      "source": [
        "#Day 1 Numby & operations"
      ]
    },
    {
      "cell_type": "code",
      "source": [
        "import numpy as np"
      ],
      "metadata": {
        "id": "Nbsj2cmusgrl"
      },
      "execution_count": 2,
      "outputs": []
    },
    {
      "cell_type": "code",
      "source": [
        "#create 1d,2d,3d arrays"
      ],
      "metadata": {
        "id": "0Z2aPZo8tSSq"
      },
      "execution_count": 6,
      "outputs": []
    },
    {
      "cell_type": "code",
      "source": [
        "a =np.array([1,2,3,4,5])"
      ],
      "metadata": {
        "id": "dxeW85YLtlfe"
      },
      "execution_count": 7,
      "outputs": []
    },
    {
      "cell_type": "code",
      "source": [
        "e =np.array([[3,4,5],[6,7,8]])"
      ],
      "metadata": {
        "id": "-Ar4Zxdwt3Qf"
      },
      "execution_count": 14,
      "outputs": []
    },
    {
      "cell_type": "code",
      "source": [
        "i =np.array([[[2,3],[4,5]],[[6,7],[8,9]]])"
      ],
      "metadata": {
        "id": "q1RuadQYuEkj"
      },
      "execution_count": 15,
      "outputs": []
    },
    {
      "cell_type": "code",
      "source": [
        "print (a)"
      ],
      "metadata": {
        "colab": {
          "base_uri": "https://localhost:8080/"
        },
        "id": "_hLFC6-Euu-G",
        "outputId": "00f7fd48-2a02-452b-eda7-e6d64f0d0cee"
      },
      "execution_count": 13,
      "outputs": [
        {
          "output_type": "stream",
          "name": "stdout",
          "text": [
            "[1 2 3 4 5]\n"
          ]
        }
      ]
    },
    {
      "cell_type": "code",
      "source": [
        "print (e)"
      ],
      "metadata": {
        "colab": {
          "base_uri": "https://localhost:8080/"
        },
        "id": "X_d7Az2_u9pk",
        "outputId": "a2cba5a8-2e1a-419e-cf30-e0aa08c0e82d"
      },
      "execution_count": 16,
      "outputs": [
        {
          "output_type": "stream",
          "name": "stdout",
          "text": [
            "[[3 4 5]\n",
            " [6 7 8]]\n"
          ]
        }
      ]
    },
    {
      "cell_type": "code",
      "source": [
        "print (i)"
      ],
      "metadata": {
        "colab": {
          "base_uri": "https://localhost:8080/"
        },
        "id": "y96Y-Ad8vEwp",
        "outputId": "a2935668-5476-4644-8c21-8a08f7d49f19"
      },
      "execution_count": 17,
      "outputs": [
        {
          "output_type": "stream",
          "name": "stdout",
          "text": [
            "[[[2 3]\n",
            "  [4 5]]\n",
            "\n",
            " [[6 7]\n",
            "  [8 9]]]\n"
          ]
        }
      ]
    },
    {
      "cell_type": "code",
      "source": [
        "# arthematic opertions"
      ],
      "metadata": {
        "id": "LaN0bKyOvIbT"
      },
      "execution_count": 19,
      "outputs": []
    },
    {
      "cell_type": "code",
      "source": [
        "print (a+10)"
      ],
      "metadata": {
        "colab": {
          "base_uri": "https://localhost:8080/"
        },
        "id": "-iwCe2fpwh4e",
        "outputId": "21139f99-230d-4e42-d9b8-aa2c103e9971"
      },
      "execution_count": 22,
      "outputs": [
        {
          "output_type": "stream",
          "name": "stdout",
          "text": [
            "[11 12 13 14 15]\n"
          ]
        }
      ]
    },
    {
      "cell_type": "code",
      "source": [
        "print (a-10)"
      ],
      "metadata": {
        "colab": {
          "base_uri": "https://localhost:8080/"
        },
        "id": "Vved7lFFwwbz",
        "outputId": "15e25bfa-864c-4739-e1ad-bbc4382f4b5a"
      },
      "execution_count": 23,
      "outputs": [
        {
          "output_type": "stream",
          "name": "stdout",
          "text": [
            "[-9 -8 -7 -6 -5]\n"
          ]
        }
      ]
    },
    {
      "cell_type": "code",
      "source": [
        "print (a*10)"
      ],
      "metadata": {
        "colab": {
          "base_uri": "https://localhost:8080/"
        },
        "id": "OfgaLhVOw5zI",
        "outputId": "a8e54057-2cb0-4278-d148-7f7fd217872b"
      },
      "execution_count": 24,
      "outputs": [
        {
          "output_type": "stream",
          "name": "stdout",
          "text": [
            "[10 20 30 40 50]\n"
          ]
        }
      ]
    },
    {
      "cell_type": "code",
      "source": [
        "print (a/10)"
      ],
      "metadata": {
        "colab": {
          "base_uri": "https://localhost:8080/"
        },
        "id": "CXesQR1IxU_N",
        "outputId": "cfde1800-fe13-434f-aedc-ee37cde6161d"
      },
      "execution_count": 27,
      "outputs": [
        {
          "output_type": "stream",
          "name": "stdout",
          "text": [
            "[0.1 0.2 0.3 0.4 0.5]\n"
          ]
        }
      ]
    },
    {
      "cell_type": "code",
      "source": [
        "#functions"
      ],
      "metadata": {
        "id": "CwbPpGhSxoWW"
      },
      "execution_count": 28,
      "outputs": []
    },
    {
      "cell_type": "code",
      "source": [
        "print(np.mean(a)) #mean"
      ],
      "metadata": {
        "colab": {
          "base_uri": "https://localhost:8080/"
        },
        "id": "r34NLG54yENM",
        "outputId": "76bfc52f-b230-45f9-9de0-8996c62f1c46"
      },
      "execution_count": 31,
      "outputs": [
        {
          "output_type": "stream",
          "name": "stdout",
          "text": [
            "3.0\n"
          ]
        }
      ]
    },
    {
      "cell_type": "code",
      "source": [
        "print (np.sum(e)) #sum"
      ],
      "metadata": {
        "colab": {
          "base_uri": "https://localhost:8080/"
        },
        "id": "lgsrAlsdzQrN",
        "outputId": "04b18153-5656-4b20-bc98-005b7939ddb8"
      },
      "execution_count": 36,
      "outputs": [
        {
          "output_type": "stream",
          "name": "stdout",
          "text": [
            "33\n"
          ]
        }
      ]
    },
    {
      "cell_type": "code",
      "source": [
        "print (np.std(i)) #standerd deviation"
      ],
      "metadata": {
        "colab": {
          "base_uri": "https://localhost:8080/"
        },
        "id": "htQWZCt6zi2z",
        "outputId": "27f5cefa-a2d3-41f4-8715-14fbe7fd83af"
      },
      "execution_count": 38,
      "outputs": [
        {
          "output_type": "stream",
          "name": "stdout",
          "text": [
            "2.29128784747792\n"
          ]
        }
      ]
    },
    {
      "cell_type": "code",
      "source": [
        "#arrange"
      ],
      "metadata": {
        "id": "4PGAGXOpzxCU"
      },
      "execution_count": 39,
      "outputs": []
    },
    {
      "cell_type": "code",
      "source": [
        "i =np.arange(10,21)"
      ],
      "metadata": {
        "id": "YbjrWENs0zFz"
      },
      "execution_count": 42,
      "outputs": []
    },
    {
      "cell_type": "code",
      "source": [
        "print(i)"
      ],
      "metadata": {
        "colab": {
          "base_uri": "https://localhost:8080/"
        },
        "id": "ImG2YeSp0_9l",
        "outputId": "87fb892d-4451-4db8-e3d9-49549494d137"
      },
      "execution_count": 43,
      "outputs": [
        {
          "output_type": "stream",
          "name": "stdout",
          "text": [
            "[10 11 12 13 14 15 16 17 18 19 20]\n"
          ]
        }
      ]
    },
    {
      "cell_type": "code",
      "source": [
        "print(e.shape)"
      ],
      "metadata": {
        "colab": {
          "base_uri": "https://localhost:8080/"
        },
        "id": "bhJ3ycOX1Fb_",
        "outputId": "c50d7202-462e-4b69-81da-67636fb785ca"
      },
      "execution_count": 45,
      "outputs": [
        {
          "output_type": "stream",
          "name": "stdout",
          "text": [
            "(2, 3)\n"
          ]
        }
      ]
    },
    {
      "cell_type": "code",
      "source": [
        "a=np.linspace(10,20)"
      ],
      "metadata": {
        "id": "u9d7pXOM1Qa6"
      },
      "execution_count": 46,
      "outputs": []
    },
    {
      "cell_type": "code",
      "source": [
        "print (a)"
      ],
      "metadata": {
        "colab": {
          "base_uri": "https://localhost:8080/"
        },
        "id": "PITnH3-f1ehq",
        "outputId": "18dd97a1-558d-4a90-8cf2-c8b4d13d51ad"
      },
      "execution_count": 47,
      "outputs": [
        {
          "output_type": "stream",
          "name": "stdout",
          "text": [
            "[10.         10.20408163 10.40816327 10.6122449  10.81632653 11.02040816\n",
            " 11.2244898  11.42857143 11.63265306 11.83673469 12.04081633 12.24489796\n",
            " 12.44897959 12.65306122 12.85714286 13.06122449 13.26530612 13.46938776\n",
            " 13.67346939 13.87755102 14.08163265 14.28571429 14.48979592 14.69387755\n",
            " 14.89795918 15.10204082 15.30612245 15.51020408 15.71428571 15.91836735\n",
            " 16.12244898 16.32653061 16.53061224 16.73469388 16.93877551 17.14285714\n",
            " 17.34693878 17.55102041 17.75510204 17.95918367 18.16326531 18.36734694\n",
            " 18.57142857 18.7755102  18.97959184 19.18367347 19.3877551  19.59183673\n",
            " 19.79591837 20.        ]\n"
          ]
        }
      ]
    },
    {
      "cell_type": "code",
      "source": [
        "print (np.min(a)) #min"
      ],
      "metadata": {
        "colab": {
          "base_uri": "https://localhost:8080/"
        },
        "id": "-my0t5Pz1ktX",
        "outputId": "f07bf48d-fcd8-4674-d0c2-7a8538c6677f"
      },
      "execution_count": 51,
      "outputs": [
        {
          "output_type": "stream",
          "name": "stdout",
          "text": [
            "10.0\n"
          ]
        }
      ]
    },
    {
      "cell_type": "code",
      "source": [
        "print (np.max(e)) #max"
      ],
      "metadata": {
        "colab": {
          "base_uri": "https://localhost:8080/"
        },
        "id": "6KS-MDVo2EuE",
        "outputId": "733c543e-665c-46b8-ecc7-938946ab90d0"
      },
      "execution_count": 52,
      "outputs": [
        {
          "output_type": "stream",
          "name": "stdout",
          "text": [
            "8\n"
          ]
        }
      ]
    },
    {
      "cell_type": "code",
      "source": [
        "print (np.max(i)) #max"
      ],
      "metadata": {
        "colab": {
          "base_uri": "https://localhost:8080/"
        },
        "id": "iLX0kY5w2IlK",
        "outputId": "70fbbb3b-ec63-4393-b1a3-8f4c06f2b3f3"
      },
      "execution_count": 50,
      "outputs": [
        {
          "output_type": "stream",
          "name": "stdout",
          "text": [
            "20\n"
          ]
        }
      ]
    },
    {
      "cell_type": "code",
      "source": [],
      "metadata": {
        "id": "fa91F_TN2ab8"
      },
      "execution_count": null,
      "outputs": []
    }
  ]
}